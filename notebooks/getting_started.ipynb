{
 "cells": [
  {
   "cell_type": "markdown",
   "metadata": {},
   "source": [
    "# Getting Started\n",
    "Read in the travel diary, filter to \"complete\" days, and do some basic summaries\n",
    "\n",
    "## Setup"
   ]
  },
  {
   "cell_type": "code",
   "execution_count": 1,
   "metadata": {},
   "outputs": [],
   "source": [
    "import sys, os\n",
    "import numpy as np\n",
    "import pandas as pd"
   ]
  },
  {
   "cell_type": "markdown",
   "metadata": {},
   "source": [
    "Define and add the path of `rmove_utils`"
   ]
  },
  {
   "cell_type": "code",
   "execution_count": 2,
   "metadata": {},
   "outputs": [],
   "source": [
    "PYTHONLIB = r'<root directory for rmove_utils>'\n",
    "RMOVE_UTIL_DIR = os.path.join(PYTHONLIB,r'rmove_utils')\n",
    "sys.path.insert(0, RMOVE_UTIL_DIR)\n",
    "from rmove_utils.survey import Survey"
   ]
  },
  {
   "cell_type": "markdown",
   "metadata": {},
   "source": [
    "Create a `config` object from the codebook"
   ]
  },
  {
   "cell_type": "code",
   "execution_count": 3,
   "metadata": {},
   "outputs": [],
   "source": [
    "import rmove_utils.config as ruc\n",
    "ruc.Config.from_excel(path=r'<Path to the codebook>',\n",
    "                      config_file=r'<Codebook filename>')"
   ]
  },
  {
   "cell_type": "markdown",
   "metadata": {},
   "source": [
    "Define the location of the survey, and the location to write any outputs"
   ]
  },
  {
   "cell_type": "code",
   "execution_count": 4,
   "metadata": {},
   "outputs": [],
   "source": [
    "INDIR = r'<Path to rmove data>'\n",
    "OUTDIR = r'<Output path>'"
   ]
  },
  {
   "cell_type": "markdown",
   "metadata": {},
   "source": [
    "# Import the survey\n",
    "Import the survey.  This will check each field in the codebook against fields in the data set.  It will also check the coded values against the valid codes identified in the codebook.  Currently, values are only validated for categorical variables, not continuous variables. "
   ]
  },
  {
   "cell_type": "code",
   "execution_count": 5,
   "metadata": {},
   "outputs": [
    {
     "name": "stdout",
     "output_type": "stream",
     "text": [
      "found unexpected column wkdy_hh_weight_sp_owners in <class 'rmove_utils.households.Households'>.\n",
      "did not find expected column wkdy_hh_weight_sp_owners  in <class 'rmove_utils.households.Households'>.\n",
      "found unexpected column wkdy_person_weight_sp_owners in <class 'rmove_utils.persons.Persons'>.\n",
      "did not find expected column person_exp_weight in <class 'rmove_utils.persons.Persons'>.\n",
      "did not find expected column person_weight_day in <class 'rmove_utils.persons.Persons'>.\n",
      "did not find expected column wkdy_person_weight_sp_owners  in <class 'rmove_utils.persons.Persons'>.\n",
      "found unexpected column wkdy_trip_weight_sp_owners in <class 'rmove_utils.trips.Trips'>.\n",
      "did not find expected column wkdy_trip_weight_sp_owners  in <class 'rmove_utils.trips.Trips'>.\n",
      "found 49 unexpected value(s) A;B for column trip_quality_flag in <class 'rmove_utils.trips.Trips'>.\n",
      "found 17 unexpected value(s) A;C for column trip_quality_flag in <class 'rmove_utils.trips.Trips'>.\n",
      "found 17 unexpected value(s) A;D for column trip_quality_flag in <class 'rmove_utils.trips.Trips'>.\n",
      "found 1 unexpected value(s) C;D for column trip_quality_flag in <class 'rmove_utils.trips.Trips'>.\n",
      "error converting values in columns trip_quality_flag of <class 'rmove_utils.trips.Trips'> to human readable form.\n",
      "nan\n",
      "SUMMARY ERRORY: error converting values in columns trip_quality_flag of <class 'rmove_utils.trips.Trips'> to human readable form.\n",
      "'A;B'\n",
      "found unexpected column wkdy_day_weight_sp_owners in <class 'rmove_utils.days.Days'>.\n",
      "did not find expected column wkdy_day_weight_sp_owners  in <class 'rmove_utils.days.Days'>.\n",
      "error converting values in columns year of <class 'rmove_utils.vehicles.Vehicles'> to human readable form.\n",
      "nan\n"
     ]
    }
   ],
   "source": [
    "survey = Survey(root=INDIR,\n",
    "                household_file=r'household.tsv',\n",
    "                person_file=r'person.tsv',\n",
    "                trip_file=r'trip.tsv',\n",
    "                day_file=r'day.tsv',\n",
    "                vehicle_file=r'vehicle.tsv',\n",
    "                location_file=r'location.tsv',\n",
    "               )"
   ]
  },
  {
   "cell_type": "markdown",
   "metadata": {},
   "source": [
    "The survey contains an object for each file type.  For example, `survey.households`.  The imported data is stored in a Pandas DataFrame, `survey.households.data`. It also contains a human readable version of each table, for example `survey.households.human_readable`."
   ]
  },
  {
   "cell_type": "markdown",
   "metadata": {},
   "source": [
    "# Do some basic data maintenance\n",
    "Filter to just days that are complete"
   ]
  },
  {
   "cell_type": "code",
   "execution_count": 6,
   "metadata": {},
   "outputs": [],
   "source": [
    "survey.filter_complete_days()"
   ]
  },
  {
   "cell_type": "markdown",
   "metadata": {},
   "source": [
    "Create some basic attribute summaries"
   ]
  },
  {
   "cell_type": "code",
   "execution_count": 7,
   "metadata": {},
   "outputs": [],
   "source": [
    "survey.summarize(household_weights='wkdy_hh_weight_all_adults', \n",
    "                 person_weights='wkdy_person_weight_all_adults',\n",
    "                 day_weights='wkdy_day_weight_all_adults',\n",
    "                 trip_weights='wkdy_trip_weight_all_adults')"
   ]
  },
  {
   "cell_type": "markdown",
   "metadata": {},
   "source": [
    "## Explore the data a bit\n",
    "Check out the data as imported\n",
    "Note: these are not shown because of potential PII.  Uncomment to explore your data internally."
   ]
  },
  {
   "cell_type": "code",
   "execution_count": 8,
   "metadata": {},
   "outputs": [],
   "source": [
    "#survey.households.data.head()"
   ]
  },
  {
   "cell_type": "code",
   "execution_count": 9,
   "metadata": {},
   "outputs": [],
   "source": [
    "#survey.persons.data.head()"
   ]
  },
  {
   "cell_type": "code",
   "execution_count": 10,
   "metadata": {},
   "outputs": [],
   "source": [
    "#survey.days.data.head()"
   ]
  },
  {
   "cell_type": "code",
   "execution_count": 11,
   "metadata": {},
   "outputs": [],
   "source": [
    "#survey.trips.data.head()"
   ]
  },
  {
   "cell_type": "code",
   "execution_count": 12,
   "metadata": {},
   "outputs": [],
   "source": [
    "#survey.vehicles.data.head()"
   ]
  },
  {
   "cell_type": "markdown",
   "metadata": {},
   "source": [
    "Now check out the human readable versions"
   ]
  },
  {
   "cell_type": "code",
   "execution_count": 13,
   "metadata": {},
   "outputs": [],
   "source": [
    "#survey.households.human_readable.head()"
   ]
  },
  {
   "cell_type": "code",
   "execution_count": 14,
   "metadata": {},
   "outputs": [],
   "source": [
    "#survey.persons.human_readable.head()"
   ]
  },
  {
   "cell_type": "code",
   "execution_count": 15,
   "metadata": {},
   "outputs": [],
   "source": [
    "#survey.days.human_readable.head()"
   ]
  },
  {
   "cell_type": "code",
   "execution_count": 16,
   "metadata": {},
   "outputs": [],
   "source": [
    "#survey.trips.human_readable.head()"
   ]
  },
  {
   "cell_type": "code",
   "execution_count": 17,
   "metadata": {},
   "outputs": [],
   "source": [
    "#survey.vehicles.human_readable.head()"
   ]
  },
  {
   "cell_type": "code",
   "execution_count": 18,
   "metadata": {},
   "outputs": [],
   "source": [
    "#survey.locations.human_readable.head()"
   ]
  },
  {
   "cell_type": "markdown",
   "metadata": {},
   "source": [
    "## Explore the `data_dicitonary` and `value_lookup`\n",
    "What is `mode_type`, and what are it's valid values?"
   ]
  },
  {
   "cell_type": "code",
   "execution_count": 19,
   "metadata": {},
   "outputs": [
    {
     "name": "stdout",
     "output_type": "stream",
     "text": [
      "field name: mode_type\n",
      "\n",
      "description: Mode category\n",
      "\n",
      "    1: Walk\n",
      "    2: Bike\n",
      "    3: Car\n",
      "    4: Taxi\n",
      "    5: Transit\n",
      "    6: Schoolbus\n",
      "    7: Other\n",
      "    8: Shuttle/vanpool\n",
      "    9: TNC\n",
      "   10: Carshare\n",
      "   11: Bikeshare\n",
      "   12: Scooter share\n",
      "   13: Long-distance passenger mode\n",
      "-9998: Missing: Non-response\n",
      "  995: Missing: Skip logic\n",
      "\n"
     ]
    }
   ],
   "source": [
    "print(survey.data_dictionary['mode_type'])"
   ]
  },
  {
   "cell_type": "markdown",
   "metadata": {},
   "source": [
    "What about just a dictionary of valid values to descriptions?"
   ]
  },
  {
   "cell_type": "code",
   "execution_count": 20,
   "metadata": {},
   "outputs": [
    {
     "data": {
      "text/plain": [
       "{1: 'Walk',\n",
       " 2: 'Bike',\n",
       " 3: 'Car',\n",
       " 4: 'Taxi',\n",
       " 5: 'Transit',\n",
       " 6: 'Schoolbus',\n",
       " 7: 'Other',\n",
       " 8: 'Shuttle/vanpool',\n",
       " 9: 'TNC',\n",
       " 10: 'Carshare',\n",
       " 11: 'Bikeshare',\n",
       " 12: 'Scooter share',\n",
       " 13: 'Long-distance passenger mode',\n",
       " -9998: 'Missing: Non-response',\n",
       " 995: 'Missing: Skip logic'}"
      ]
     },
     "execution_count": 20,
     "metadata": {},
     "output_type": "execute_result"
    }
   ],
   "source": [
    "survey.trips.value_lookup['mode_type']"
   ]
  },
  {
   "cell_type": "markdown",
   "metadata": {},
   "source": [
    "How many trips by each `mode_type`?"
   ]
  },
  {
   "cell_type": "code",
   "execution_count": 21,
   "metadata": {},
   "outputs": [
    {
     "data": {
      "text/html": [
       "<div>\n",
       "<style scoped>\n",
       "    .dataframe tbody tr th:only-of-type {\n",
       "        vertical-align: middle;\n",
       "    }\n",
       "\n",
       "    .dataframe tbody tr th {\n",
       "        vertical-align: top;\n",
       "    }\n",
       "\n",
       "    .dataframe thead th {\n",
       "        text-align: right;\n",
       "    }\n",
       "</style>\n",
       "<table border=\"1\" class=\"dataframe\">\n",
       "  <thead>\n",
       "    <tr style=\"text-align: right;\">\n",
       "      <th></th>\n",
       "      <th>name</th>\n",
       "      <th>size</th>\n",
       "      <th>wkdy_trip_weight_all_adults</th>\n",
       "    </tr>\n",
       "    <tr>\n",
       "      <th>mode_type</th>\n",
       "      <th></th>\n",
       "      <th></th>\n",
       "      <th></th>\n",
       "    </tr>\n",
       "  </thead>\n",
       "  <tbody>\n",
       "    <tr>\n",
       "      <th>-9998</th>\n",
       "      <td>Missing: Non-response</td>\n",
       "      <td>11913</td>\n",
       "      <td>0.000000e+00</td>\n",
       "    </tr>\n",
       "    <tr>\n",
       "      <th>1</th>\n",
       "      <td>Walk</td>\n",
       "      <td>51088</td>\n",
       "      <td>4.798116e+06</td>\n",
       "    </tr>\n",
       "    <tr>\n",
       "      <th>2</th>\n",
       "      <td>Bike</td>\n",
       "      <td>5151</td>\n",
       "      <td>4.574374e+05</td>\n",
       "    </tr>\n",
       "    <tr>\n",
       "      <th>3</th>\n",
       "      <td>Car</td>\n",
       "      <td>76258</td>\n",
       "      <td>2.269311e+07</td>\n",
       "    </tr>\n",
       "    <tr>\n",
       "      <th>4</th>\n",
       "      <td>Taxi</td>\n",
       "      <td>231</td>\n",
       "      <td>4.961832e+04</td>\n",
       "    </tr>\n",
       "    <tr>\n",
       "      <th>5</th>\n",
       "      <td>Transit</td>\n",
       "      <td>15563</td>\n",
       "      <td>1.751710e+06</td>\n",
       "    </tr>\n",
       "    <tr>\n",
       "      <th>6</th>\n",
       "      <td>Schoolbus</td>\n",
       "      <td>2</td>\n",
       "      <td>2.902281e+03</td>\n",
       "    </tr>\n",
       "    <tr>\n",
       "      <th>7</th>\n",
       "      <td>Other</td>\n",
       "      <td>1239</td>\n",
       "      <td>2.456069e+05</td>\n",
       "    </tr>\n",
       "    <tr>\n",
       "      <th>8</th>\n",
       "      <td>Shuttle/vanpool</td>\n",
       "      <td>1823</td>\n",
       "      <td>2.855999e+05</td>\n",
       "    </tr>\n",
       "    <tr>\n",
       "      <th>9</th>\n",
       "      <td>TNC</td>\n",
       "      <td>5135</td>\n",
       "      <td>3.624191e+05</td>\n",
       "    </tr>\n",
       "    <tr>\n",
       "      <th>10</th>\n",
       "      <td>Carshare</td>\n",
       "      <td>614</td>\n",
       "      <td>1.588955e+04</td>\n",
       "    </tr>\n",
       "    <tr>\n",
       "      <th>11</th>\n",
       "      <td>Bikeshare</td>\n",
       "      <td>723</td>\n",
       "      <td>5.237953e+04</td>\n",
       "    </tr>\n",
       "    <tr>\n",
       "      <th>12</th>\n",
       "      <td>Scooter share</td>\n",
       "      <td>239</td>\n",
       "      <td>2.615932e+04</td>\n",
       "    </tr>\n",
       "    <tr>\n",
       "      <th>13</th>\n",
       "      <td>Long-distance passenger mode</td>\n",
       "      <td>2052</td>\n",
       "      <td>3.726998e+05</td>\n",
       "    </tr>\n",
       "  </tbody>\n",
       "</table>\n",
       "</div>"
      ],
      "text/plain": [
       "                                   name   size  wkdy_trip_weight_all_adults\n",
       "mode_type                                                                  \n",
       "-9998             Missing: Non-response  11913                 0.000000e+00\n",
       " 1                                 Walk  51088                 4.798116e+06\n",
       " 2                                 Bike   5151                 4.574374e+05\n",
       " 3                                  Car  76258                 2.269311e+07\n",
       " 4                                 Taxi    231                 4.961832e+04\n",
       " 5                              Transit  15563                 1.751710e+06\n",
       " 6                            Schoolbus      2                 2.902281e+03\n",
       " 7                                Other   1239                 2.456069e+05\n",
       " 8                      Shuttle/vanpool   1823                 2.855999e+05\n",
       " 9                                  TNC   5135                 3.624191e+05\n",
       " 10                            Carshare    614                 1.588955e+04\n",
       " 11                           Bikeshare    723                 5.237953e+04\n",
       " 12                       Scooter share    239                 2.615932e+04\n",
       " 13        Long-distance passenger mode   2052                 3.726998e+05"
      ]
     },
     "execution_count": 21,
     "metadata": {},
     "output_type": "execute_result"
    }
   ],
   "source": [
    "survey.trips.summary['mode_type']"
   ]
  },
  {
   "cell_type": "markdown",
   "metadata": {},
   "source": [
    "How many people have X daily trips?"
   ]
  },
  {
   "cell_type": "code",
   "execution_count": 22,
   "metadata": {
    "scrolled": false
   },
   "outputs": [
    {
     "data": {
      "text/html": [
       "<div>\n",
       "<style scoped>\n",
       "    .dataframe tbody tr th:only-of-type {\n",
       "        vertical-align: middle;\n",
       "    }\n",
       "\n",
       "    .dataframe tbody tr th {\n",
       "        vertical-align: top;\n",
       "    }\n",
       "\n",
       "    .dataframe thead th {\n",
       "        text-align: right;\n",
       "    }\n",
       "</style>\n",
       "<table border=\"1\" class=\"dataframe\">\n",
       "  <thead>\n",
       "    <tr style=\"text-align: right;\">\n",
       "      <th></th>\n",
       "      <th>name</th>\n",
       "      <th>size</th>\n",
       "      <th>wkdy_day_weight_all_adults</th>\n",
       "    </tr>\n",
       "    <tr>\n",
       "      <th>num_trips_day</th>\n",
       "      <th></th>\n",
       "      <th></th>\n",
       "      <th></th>\n",
       "    </tr>\n",
       "  </thead>\n",
       "  <tbody>\n",
       "    <tr>\n",
       "      <th>0</th>\n",
       "      <td>NaN</td>\n",
       "      <td>2764</td>\n",
       "      <td>677466.90922</td>\n",
       "    </tr>\n",
       "    <tr>\n",
       "      <th>1</th>\n",
       "      <td>NaN</td>\n",
       "      <td>615</td>\n",
       "      <td>142111.85230</td>\n",
       "    </tr>\n",
       "    <tr>\n",
       "      <th>2</th>\n",
       "      <td>NaN</td>\n",
       "      <td>4234</td>\n",
       "      <td>892062.55331</td>\n",
       "    </tr>\n",
       "    <tr>\n",
       "      <th>3</th>\n",
       "      <td>NaN</td>\n",
       "      <td>2947</td>\n",
       "      <td>541744.36261</td>\n",
       "    </tr>\n",
       "    <tr>\n",
       "      <th>4</th>\n",
       "      <td>NaN</td>\n",
       "      <td>4054</td>\n",
       "      <td>812971.65633</td>\n",
       "    </tr>\n",
       "    <tr>\n",
       "      <th>5</th>\n",
       "      <td>NaN</td>\n",
       "      <td>3297</td>\n",
       "      <td>615923.19812</td>\n",
       "    </tr>\n",
       "    <tr>\n",
       "      <th>6</th>\n",
       "      <td>NaN</td>\n",
       "      <td>3145</td>\n",
       "      <td>645434.39703</td>\n",
       "    </tr>\n",
       "    <tr>\n",
       "      <th>7</th>\n",
       "      <td>NaN</td>\n",
       "      <td>2478</td>\n",
       "      <td>543908.86882</td>\n",
       "    </tr>\n",
       "    <tr>\n",
       "      <th>8</th>\n",
       "      <td>NaN</td>\n",
       "      <td>1970</td>\n",
       "      <td>371903.77303</td>\n",
       "    </tr>\n",
       "    <tr>\n",
       "      <th>9</th>\n",
       "      <td>NaN</td>\n",
       "      <td>1325</td>\n",
       "      <td>187004.21801</td>\n",
       "    </tr>\n",
       "    <tr>\n",
       "      <th>10</th>\n",
       "      <td>NaN</td>\n",
       "      <td>1061</td>\n",
       "      <td>207984.16470</td>\n",
       "    </tr>\n",
       "    <tr>\n",
       "      <th>11</th>\n",
       "      <td>NaN</td>\n",
       "      <td>737</td>\n",
       "      <td>149042.71660</td>\n",
       "    </tr>\n",
       "    <tr>\n",
       "      <th>12</th>\n",
       "      <td>NaN</td>\n",
       "      <td>451</td>\n",
       "      <td>85722.12764</td>\n",
       "    </tr>\n",
       "    <tr>\n",
       "      <th>13</th>\n",
       "      <td>NaN</td>\n",
       "      <td>289</td>\n",
       "      <td>101630.30468</td>\n",
       "    </tr>\n",
       "    <tr>\n",
       "      <th>14</th>\n",
       "      <td>NaN</td>\n",
       "      <td>213</td>\n",
       "      <td>40587.41553</td>\n",
       "    </tr>\n",
       "    <tr>\n",
       "      <th>15</th>\n",
       "      <td>NaN</td>\n",
       "      <td>137</td>\n",
       "      <td>44714.12688</td>\n",
       "    </tr>\n",
       "    <tr>\n",
       "      <th>16</th>\n",
       "      <td>NaN</td>\n",
       "      <td>97</td>\n",
       "      <td>25321.01545</td>\n",
       "    </tr>\n",
       "    <tr>\n",
       "      <th>17</th>\n",
       "      <td>NaN</td>\n",
       "      <td>60</td>\n",
       "      <td>24412.60880</td>\n",
       "    </tr>\n",
       "    <tr>\n",
       "      <th>18</th>\n",
       "      <td>NaN</td>\n",
       "      <td>37</td>\n",
       "      <td>16936.35366</td>\n",
       "    </tr>\n",
       "    <tr>\n",
       "      <th>19</th>\n",
       "      <td>NaN</td>\n",
       "      <td>24</td>\n",
       "      <td>7358.55308</td>\n",
       "    </tr>\n",
       "    <tr>\n",
       "      <th>20</th>\n",
       "      <td>NaN</td>\n",
       "      <td>19</td>\n",
       "      <td>2406.35816</td>\n",
       "    </tr>\n",
       "    <tr>\n",
       "      <th>21</th>\n",
       "      <td>NaN</td>\n",
       "      <td>11</td>\n",
       "      <td>7788.15627</td>\n",
       "    </tr>\n",
       "    <tr>\n",
       "      <th>22</th>\n",
       "      <td>NaN</td>\n",
       "      <td>12</td>\n",
       "      <td>2325.61822</td>\n",
       "    </tr>\n",
       "    <tr>\n",
       "      <th>23</th>\n",
       "      <td>NaN</td>\n",
       "      <td>11</td>\n",
       "      <td>10079.09971</td>\n",
       "    </tr>\n",
       "    <tr>\n",
       "      <th>24</th>\n",
       "      <td>NaN</td>\n",
       "      <td>5</td>\n",
       "      <td>34.66711</td>\n",
       "    </tr>\n",
       "    <tr>\n",
       "      <th>25</th>\n",
       "      <td>NaN</td>\n",
       "      <td>4</td>\n",
       "      <td>170.12175</td>\n",
       "    </tr>\n",
       "    <tr>\n",
       "      <th>26</th>\n",
       "      <td>NaN</td>\n",
       "      <td>3</td>\n",
       "      <td>2087.12523</td>\n",
       "    </tr>\n",
       "    <tr>\n",
       "      <th>27</th>\n",
       "      <td>NaN</td>\n",
       "      <td>3</td>\n",
       "      <td>521.94033</td>\n",
       "    </tr>\n",
       "    <tr>\n",
       "      <th>29</th>\n",
       "      <td>NaN</td>\n",
       "      <td>5</td>\n",
       "      <td>1488.63206</td>\n",
       "    </tr>\n",
       "    <tr>\n",
       "      <th>31</th>\n",
       "      <td>NaN</td>\n",
       "      <td>1</td>\n",
       "      <td>12.61640</td>\n",
       "    </tr>\n",
       "    <tr>\n",
       "      <th>33</th>\n",
       "      <td>NaN</td>\n",
       "      <td>1</td>\n",
       "      <td>0.00000</td>\n",
       "    </tr>\n",
       "    <tr>\n",
       "      <th>34</th>\n",
       "      <td>NaN</td>\n",
       "      <td>1</td>\n",
       "      <td>105.11363</td>\n",
       "    </tr>\n",
       "    <tr>\n",
       "      <th>47</th>\n",
       "      <td>NaN</td>\n",
       "      <td>1</td>\n",
       "      <td>312.60363</td>\n",
       "    </tr>\n",
       "  </tbody>\n",
       "</table>\n",
       "</div>"
      ],
      "text/plain": [
       "              name  size  wkdy_day_weight_all_adults\n",
       "num_trips_day                                       \n",
       "0              NaN  2764                677466.90922\n",
       "1              NaN   615                142111.85230\n",
       "2              NaN  4234                892062.55331\n",
       "3              NaN  2947                541744.36261\n",
       "4              NaN  4054                812971.65633\n",
       "5              NaN  3297                615923.19812\n",
       "6              NaN  3145                645434.39703\n",
       "7              NaN  2478                543908.86882\n",
       "8              NaN  1970                371903.77303\n",
       "9              NaN  1325                187004.21801\n",
       "10             NaN  1061                207984.16470\n",
       "11             NaN   737                149042.71660\n",
       "12             NaN   451                 85722.12764\n",
       "13             NaN   289                101630.30468\n",
       "14             NaN   213                 40587.41553\n",
       "15             NaN   137                 44714.12688\n",
       "16             NaN    97                 25321.01545\n",
       "17             NaN    60                 24412.60880\n",
       "18             NaN    37                 16936.35366\n",
       "19             NaN    24                  7358.55308\n",
       "20             NaN    19                  2406.35816\n",
       "21             NaN    11                  7788.15627\n",
       "22             NaN    12                  2325.61822\n",
       "23             NaN    11                 10079.09971\n",
       "24             NaN     5                    34.66711\n",
       "25             NaN     4                   170.12175\n",
       "26             NaN     3                  2087.12523\n",
       "27             NaN     3                   521.94033\n",
       "29             NaN     5                  1488.63206\n",
       "31             NaN     1                    12.61640\n",
       "33             NaN     1                     0.00000\n",
       "34             NaN     1                   105.11363\n",
       "47             NaN     1                   312.60363"
      ]
     },
     "execution_count": 22,
     "metadata": {},
     "output_type": "execute_result"
    }
   ],
   "source": [
    "survey.days.summary['num_trips_day']"
   ]
  }
 ],
 "metadata": {
  "kernelspec": {
   "display_name": "Python 3",
   "language": "python",
   "name": "python3"
  },
  "language_info": {
   "codemirror_mode": {
    "name": "ipython",
    "version": 3
   },
   "file_extension": ".py",
   "mimetype": "text/x-python",
   "name": "python",
   "nbconvert_exporter": "python",
   "pygments_lexer": "ipython3",
   "version": "3.6.5"
  }
 },
 "nbformat": 4,
 "nbformat_minor": 2
}
